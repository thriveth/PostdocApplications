{
 "metadata": {
  "name": ""
 },
 "nbformat": 3,
 "nbformat_minor": 0,
 "worksheets": [
  {
   "cells": [
    {
     "cell_type": "code",
     "collapsed": false,
     "input": [
      "import scipy as sp\n",
      "import matplotlib.pyplot as plt\n",
      "import matplotlib as mpl\n",
      "import aplpy as ap\n",
      "from astropy.io import fits\n",
      "%pylab"
     ],
     "language": "python",
     "metadata": {},
     "outputs": [
      {
       "output_type": "stream",
       "stream": "stdout",
       "text": [
        "Using matplotlib backend: Qt4Agg\n",
        "Populating the interactive namespace from numpy and matplotlib\n"
       ]
      }
     ],
     "prompt_number": 1
    },
    {
     "cell_type": "code",
     "collapsed": false,
     "input": [
      "La08 = fits.getdata('FitsFrames/l08_la_fa_log.fits')\n",
      "#La08 = sp.ma.masked_array(La08, mask = La08 < 0.)\n",
      "Uv08 = fits.getdata('FitsFrames/l08_uv_log.fits')"
     ],
     "language": "python",
     "metadata": {},
     "outputs": [],
     "prompt_number": 25
    },
    {
     "cell_type": "code",
     "collapsed": false,
     "input": [
      "theBlues = mpl.colors.LinearSegmentedColormap.from_list('my_cmap',['cyan','cyan'],256)\n",
      "theBlues._init()\n",
      "alphas = np.linspace(0, 0.9, theBlues.N+3)\n",
      "theBlues._lut[:,-1] = alphas"
     ],
     "language": "python",
     "metadata": {},
     "outputs": [],
     "prompt_number": 26
    },
    {
     "cell_type": "code",
     "collapsed": false,
     "input": [
      "Apertures = {\n",
      "    1:  [432,   529,  31.25],\n",
      "    2:  [405,   408,  20],\n",
      "    3:  [403,   385,  20],\n",
      "    4:  [396,   471,  31.25],\n",
      "    5:  [419,   399,  20],\n",
      "    6:  [352,   490,  31.25],\n",
      "    7:  [484.5, 505,  31.25],\n",
      "    8:  [468,   506,  31.25],\n",
      "    9:  [397,   394,  31.25],\n",
      "    10: [396,   400,  31.25],\n",
      "    11: [402,   405,  31.25],\n",
      "    12: [395,   387,  31.25],\n",
      "    13: [400,   405,  31.25],\n",
      "    14: [386,   392,  31.25]}"
     ],
     "language": "python",
     "metadata": {},
     "outputs": [],
     "prompt_number": 89
    },
    {
     "cell_type": "code",
     "collapsed": false,
     "input": [
      "fig, axs = subplots(3, 5, figsize=(7, 4.2), dpi=300)\n",
      "axs = axs.flatten()\n",
      "axs[14].set_visible(False)\n",
      "for i in range(14):\n",
      "    j = i + 1\n",
      "    ax = axs[i]\n",
      "    ar = Apertures[j]\n",
      "    LaData = fits.getdata('FitsFrames/l{}_la_fa_log.fits'.format(str(j).zfill(2)))\n",
      "    #UvData = fits.getdata('FitsFrames/l{}_la_fa_log.fits'.format(sj.zfill(2)))\n",
      "    ax.imshow(LaData*3, cmap='cubehelix', vmin=0, vmax=6., origin='lower')\n",
      "    apert = Circle((ar[0], ar[1]), radius=ar[2], color='w', ec='w', lw=1, fill=False)\n",
      "    apert2 = Circle((ar[0], ar[1]), radius=ar[2], color='khaki', ec='k', lw=.5, fill=True)\n",
      "    ax.add_patch(apert2)\n",
      "    #ax.add_patch(apert)\n",
      "    ax.label_outer()\n",
      "    ax.tick_params(labelbottom='off', labelleft='off')\n",
      "    ax.annotate('LARS {}'.format(str(j).zfill(2)), (0.05, 0.9), xycoords='axes fraction', color='w', \n",
      "                fontsize='9')\n",
      "fig.subplots_adjust(left=.02, right=.98, bottom=.02, top=.98, wspace=.02, hspace=.02) \n",
      "fig.savefig('ApertureMaps.pdf', dpi=300)\n",
      "fig.savefig('ApertureMaps.png', dpi=300)\n",
      "#imshow(Uv08, cmap=theBlues, vmin=-2, vmax=2)"
     ],
     "language": "python",
     "metadata": {},
     "outputs": [],
     "prompt_number": 135
    },
    {
     "cell_type": "code",
     "collapsed": false,
     "input": [
      "thefig = gcf()\n",
      "thefig.get_size_inches()"
     ],
     "language": "python",
     "metadata": {},
     "outputs": [
      {
       "metadata": {},
       "output_type": "pyout",
       "prompt_number": 64,
       "text": [
        "array([ 10.1375,   6.    ])"
       ]
      }
     ],
     "prompt_number": 64
    },
    {
     "cell_type": "code",
     "collapsed": false,
     "input": [
      "figure("
     ],
     "language": "python",
     "metadata": {},
     "outputs": []
    },
    {
     "cell_type": "code",
     "collapsed": false,
     "input": [
      "ap.make_rgb_cube(['FitsFrames/l01_ha_log.fits', 'FitsFrames/l01_uv_log.fits', \n",
      "                  'FitsFrames/l01_la_fa_log.fits'], 'l01cube.fits')"
     ],
     "language": "python",
     "metadata": {},
     "outputs": [
      {
       "output_type": "stream",
       "stream": "stdout",
       "text": [
        "INFO: Deleting work directory /tmp/tmpLTdBsw [montage_wrapper.wrappers]\n",
        "INFO"
       ]
      },
      {
       "output_type": "stream",
       "stream": "stdout",
       "text": [
        ": Deleting work directory /tmp/tmpLD2brk [montage_wrapper.wrappers]\n",
        "INFO"
       ]
      },
      {
       "output_type": "stream",
       "stream": "stdout",
       "text": [
        ": Deleting work directory /tmp/tmprPJ7Gk [montage_wrapper.wrappers]\n"
       ]
      }
     ],
     "prompt_number": 14
    },
    {
     "cell_type": "code",
     "collapsed": false,
     "input": [
      "thefig = ap.FITSFigure('FitsFrames/l01_la_fa_log.fits')\n",
      "thefig.show_grayscale()"
     ],
     "language": "python",
     "metadata": {},
     "outputs": [
      {
       "output_type": "stream",
       "stream": "stdout",
       "text": [
        "INFO: Auto-setting vmin to -2.907e+00 [aplpy.aplpy]\n",
        "INFO: Auto-setting vmax to  2.174e+00 [aplpy.aplpy]\n"
       ]
      }
     ],
     "prompt_number": 24
    },
    {
     "cell_type": "code",
     "collapsed": false,
     "input": [
      "cmap1 = mpl.colors.LinearSegmentedColormap.from_list('my_cmap',['green','blue'],256)\n",
      "cmap2 = mpl.colors.LinearSegmentedColormap.from_list('my_cmap2',[color1,color2],256)\n",
      "\n",
      "cmap2._init() # create the _lut array, with rgba values\n",
      "\n",
      "# create your alpha array and fill the colormap with them.\n",
      "# here it is progressive, but you can create whathever you want\n",
      "alphas = np.linspace(0, 0.8, cmap2.N+3)\n",
      "cmap2._lut[:,-1] = alphas\n",
      "\n",
      "img2 = plt.imshow(zvals, interpolation='nearest', cmap=cmap1, origin='lower')\n",
      "img3 = plt.imshow(zvals2, interpolation='nearest', cmap=cmap2, origin='lower')"
     ],
     "language": "python",
     "metadata": {},
     "outputs": [],
     "prompt_number": 20
    },
    {
     "cell_type": "code",
     "collapsed": false,
     "input": [],
     "language": "python",
     "metadata": {},
     "outputs": []
    }
   ],
   "metadata": {}
  }
 ]
}